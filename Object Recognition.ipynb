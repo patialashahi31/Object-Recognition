{
 "cells": [
  {
   "cell_type": "code",
   "execution_count": null,
   "metadata": {},
   "outputs": [],
   "source": [
    "from keras.datasets import cifar10\n",
    "from keras.utils import np_utils\n",
    "from matplotlib import pyplot as plt\n",
    "import numpy as np\n",
    "from PIL import Image"
   ]
  },
  {
   "cell_type": "code",
   "execution_count": null,
   "metadata": {},
   "outputs": [],
   "source": [
    "#LOAD the data-\n",
    "(X_train,y_train),(X_test,y_test) = cifar10.load_data()"
   ]
  },
  {
   "cell_type": "code",
   "execution_count": null,
   "metadata": {},
   "outputs": [],
   "source": [
    "#determine the dataset\n",
    "print(\"Training images {}\".format(X_train.shape))\n",
    "print(\"Testing images {}\".format(X_test.shape))"
   ]
  },
  {
   "cell_type": "code",
   "execution_count": null,
   "metadata": {},
   "outputs": [],
   "source": [
    "print(X_train[0].shape)"
   ]
  },
  {
   "cell_type": "code",
   "execution_count": null,
   "metadata": {},
   "outputs": [],
   "source": [
    "\n",
    "# create a grid of 3x3 images\n",
    "for i in range(0,9):\n",
    "    plt.subplot(330 + 1 + i)\n",
    "    img = X_train[50+i].transpose([0,1,2])\n",
    "    plt.imshow(img)\n",
    "    \n",
    "# show the plot\n",
    "plt.show()"
   ]
  },
  {
   "cell_type": "code",
   "execution_count": null,
   "metadata": {},
   "outputs": [],
   "source": [
    "#Preprocessing the dataset\n",
    "#fix random seed for reproducibilty\n",
    "seed = 6\n",
    "np.random.seed(seed)\n",
    "#load the data\n",
    "(X_train,y_train ),(X_test,y_test) = cifar10.load_data()\n",
    "#normalize the input from 0-255 to 0-1.0\n",
    "X_train = X_train.astype('float32')\n",
    "X_test = X_test.astype('float32')\n",
    "\n",
    "X_train = X_train/255.0\n",
    "X_test = X_test/255.0"
   ]
  },
  {
   "cell_type": "code",
   "execution_count": null,
   "metadata": {},
   "outputs": [],
   "source": [
    "print(X_train[0])"
   ]
  },
  {
   "cell_type": "code",
   "execution_count": null,
   "metadata": {},
   "outputs": [],
   "source": [
    "print(y_train.shape)\n",
    "print y_train[0]"
   ]
  },
  {
   "cell_type": "code",
   "execution_count": null,
   "metadata": {},
   "outputs": [],
   "source": [
    "Y_train = np_utils.to_categorical(y_train)\n",
    "Y_test = np_utils.to_categorical(y_test)\n",
    "num_class = Y_test.shape[1]\n",
    "print(num_class)\n",
    "print(Y_train.shape)\n",
    "print(Y_train[3])"
   ]
  },
  {
   "cell_type": "code",
   "execution_count": null,
   "metadata": {},
   "outputs": [],
   "source": [
    "#importing layers\n",
    "from keras.models import Sequential\n",
    "from keras.layers import Dropout,Activation,Conv2D,GlobalAveragePooling2D\n",
    "from keras.optimizers import SGD"
   ]
  },
  {
   "cell_type": "code",
   "execution_count": null,
   "metadata": {},
   "outputs": [],
   "source": [
    "#define the model function\n",
    "def allcnn(weights=None):\n",
    "    model = Sequential()\n",
    "    model.add(Conv2D(96,(3,3),padding='same',input_shape=(32,32,3)))\n",
    "    model.add(Activation('relu'))\n",
    "    model.add(Conv2D(96,(3,3),padding='same'))\n",
    "    model.add(Activation('relu'))\n",
    "    model.add(Conv2D(96,(3,3),padding='same',strides=(2,2)))\n",
    "    model.add(Dropout(0.5))\n",
    "    \n",
    "    model.add(Conv2D(192,(3,3),padding='same'))\n",
    "        \n",
    "    model.add(Activation('relu'))\n",
    "    model.add(Conv2D(192,(3,3),padding='same'))\n",
    "        \n",
    "    model.add(Activation('relu'))\n",
    "    model.add(Conv2D(192,(3,3),padding='same',strides=(2,2)))\n",
    "    model.add(Dropout(0.5))\n",
    "        \n",
    "    model.add(Conv2D(192,(3,3),padding='same'))\n",
    "        \n",
    "    model.add(Activation('relu'))\n",
    "    model.add(Conv2D(192,(1,1),padding='valid'))\n",
    "        \n",
    "    model.add(Activation('relu'))\n",
    "    model.add(Conv2D(10,(1,1),padding='valid'))\n",
    "        \n",
    "    model.add(GlobalAveragePooling2D())\n",
    "    model.add(Activation('softmax'))\n",
    "        \n",
    "        \n",
    "    if weights:\n",
    "        model.load_weights(weights)\n",
    "        \n",
    "    return model\n"
   ]
  },
  {
   "cell_type": "code",
   "execution_count": null,
   "metadata": {},
   "outputs": [],
   "source": [
    "\n",
    "# define hyper parameters\n",
    "learning_rate = 0.01\n",
    "weight_decay = 1e-6\n",
    "momentum = 0.9\n",
    "\n",
    "# define weights and build model\n",
    "weights = 'all_cnn_weights_0.9088_0.4994.hdf5'\n",
    "model = allcnn(weights)\n",
    "\n",
    "# define optimizer and compile model\n",
    "sgd = SGD(lr=learning_rate, decay=weight_decay, momentum=momentum, nesterov=True)\n",
    "model.compile(loss='categorical_crossentropy', optimizer=sgd, metrics=['accuracy'])\n",
    "\n",
    "# print model summary\n",
    "print (model.summary())\n",
    "\n",
    "# test the model with pretrained weights\n",
    "scores = model.evaluate(X_test, Y_test, verbose=1)\n",
    "print(\"Accuracy: %.2f%%\" % (scores[1]*100))"
   ]
  },
  {
   "cell_type": "code",
   "execution_count": null,
   "metadata": {},
   "outputs": [],
   "source": [
    "print(theano.__version__)"
   ]
  },
  {
   "cell_type": "code",
   "execution_count": null,
   "metadata": {},
   "outputs": [],
   "source": [
    "\n",
    "# make dictionary of class labels and names\n",
    "classes = range(0,10)\n",
    "\n",
    "names = ['airplane',\n",
    "        'automobile',\n",
    "        'bird',\n",
    "        'cat',\n",
    "        'deer',\n",
    "        'dog',\n",
    "        'frog',\n",
    "        'horse',\n",
    "        'ship',\n",
    "        'truck']\n",
    "\n",
    "# zip the names and classes to make a dictionary of class_labels\n",
    "class_labels = dict(zip(classes, names))\n",
    "\n",
    "# generate batch of 9 images to predict\n",
    "batch = X_test[100:109]\n",
    "labels = np.argmax(Y_test[100:109],axis=-1)\n",
    "\n",
    "# make predictions\n",
    "predictions = model.predict(batch, verbose = 1)"
   ]
  },
  {
   "cell_type": "code",
   "execution_count": null,
   "metadata": {},
   "outputs": [],
   "source": [
    "\n",
    "# these are individual class probabilities, should sum to 1.0 (100%)\n",
    "for image in predictions:\n",
    "    print(np.sum(image))"
   ]
  },
  {
   "cell_type": "code",
   "execution_count": null,
   "metadata": {},
   "outputs": [],
   "source": [
    "\n",
    "# use np.argmax() to convert class probabilities to class labels\n",
    "class_result = np.argmax(predictions,axis=-1)\n",
    "print class_result"
   ]
  },
  {
   "cell_type": "code",
   "execution_count": null,
   "metadata": {},
   "outputs": [],
   "source": [
    "# create a grid of 3x3 images\n",
    "fig, axs = plt.subplots(3, 3, figsize = (15, 6))\n",
    "fig.subplots_adjust(hspace = 1)\n",
    "axs = axs.flatten()\n",
    "\n",
    "for i, img in enumerate(batch):\n",
    "\n",
    "    # determine label for each prediction, set title\n",
    "    for key, value in class_labels.items():\n",
    "        if class_result[i] == key:\n",
    "            title = 'Prediction: {}\\nActual: {}'.format(class_labels[key], class_labels[labels[i]])\n",
    "            axs[i].set_title(title)\n",
    "            axs[i].axes.get_xaxis().set_visible(False)\n",
    "            axs[i].axes.get_yaxis().set_visible(False)\n",
    "            \n",
    "    # plot the image\n",
    "    axs[i].imshow(img.transpose([1,2,0]))\n",
    "    \n",
    "# show the plot\n",
    "plt.show()"
   ]
  }
 ],
 "metadata": {
  "kernelspec": {
   "display_name": "Python 2",
   "language": "python",
   "name": "python2"
  },
  "language_info": {
   "codemirror_mode": {
    "name": "ipython",
    "version": 2
   },
   "file_extension": ".py",
   "mimetype": "text/x-python",
   "name": "python",
   "nbconvert_exporter": "python",
   "pygments_lexer": "ipython2",
   "version": "2.7.15"
  }
 },
 "nbformat": 4,
 "nbformat_minor": 2
}
